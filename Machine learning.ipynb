{
  "cells": [
    {
      "cell_type": "markdown",
      "source": [
        "# **Titanic data Modelling**"
      ],
      "metadata": {}
    },
    {
      "cell_type": "markdown",
      "source": [
        "* This notebook is focus on applying algorithm to the train and test data.\n",
        "* For the EDA part is located on another notebook\n",
        "* Algorithmn I used :\n",
        "    1. XGBoost\n",
        "    2. SVC"
      ],
      "metadata": {}
    },
    {
      "cell_type": "markdown",
      "source": [
        "# Import required libraries"
      ],
      "metadata": {}
    },
    {
      "cell_type": "code",
      "source": [
        "import seaborn as sns\n",
        "import matplotlib.pyplot as plt\n",
        "plt.style.use('ggplot')"
      ],
      "outputs": [],
      "execution_count": null,
      "metadata": {
        "trusted": true
      }
    },
    {
      "cell_type": "markdown",
      "source": [
        "# Import data"
      ],
      "metadata": {}
    },
    {
      "cell_type": "code",
      "source": [
        "df_train = pd.read_csv('/kaggle/input/titanic/train.csv')\n",
        "df_test = pd.read_csv('/kaggle/input/titanic/test.csv')\n",
        "train = df_train.copy()\n",
        "test = df_test.copy()"
      ],
      "outputs": [],
      "execution_count": null,
      "metadata": {
        "trusted": true
      }
    },
    {
      "cell_type": "markdown",
      "source": [
        "**Features details**\n",
        "* survival : Survival\t0 = No, 1 = Yes\n",
        "* pclass : Ticket class\t1 = 1st, 2 = 2nd, 3 = 3rd\n",
        "* sex\t: Sex\t\n",
        "* Age\t: Age in years\t\n",
        "* sibsp\t: # of siblings / spouses aboard the Titanic\t\n",
        "* parch\t: # of parents / children aboard the Titanic\t\n",
        "* ticket\t: Ticket number\t\n",
        "* fare\t: Passenger fare\t\n",
        "* cabin\t: Cabin number\t\n",
        "* embarked\t: Port of Embarkation\tC = Cherbourg, Q = Queenstown, S = Southampton\n",
        "\n",
        "**Variable Notes**\n",
        "* pclass: A proxy for socio-economic status (SES)\n",
        "* 1st = Upper\n",
        "* 2nd = Middle\n",
        "* 3rd = Lower\n",
        "\n",
        "age: Age is fractional if less than 1. If the age is estimated, is it in the form of xx.5\n",
        "\n",
        "sibsp: The dataset defines family relations in this way\n",
        "* Sibling = brother, sister, stepbrother, stepsister\n",
        "* Spouse = husband, wife (mistresses and fiancés were ignored)\n",
        "\n",
        "parch: The dataset defines family relations in this way...\n",
        "* Parent = mother, father\n",
        "* Child = daughter, son, stepdaughter, stepson\n",
        "* Some children travelled only with a nanny, therefore parch=0 for them."
      ],
      "metadata": {}
    },
    {
      "cell_type": "code",
      "source": [
        "print('Train data','\\n')\n",
        "print(train.info(),'\\n')\n",
        "print(train.describe(),'\\n')\n",
        "\n",
        "print('Test data','\\n')\n",
        "print(test.info(),'\\n')\n",
        "print(test.describe(),'\\n')\n",
        "\n",
        "print('Train data : {}'.format(train.shape))\n",
        "print('Test data : {}'.format(test.shape))"
      ],
      "outputs": [],
      "execution_count": null,
      "metadata": {
        "trusted": true
      }
    },
    {
      "cell_type": "code",
      "source": [
        "train"
      ],
      "outputs": [],
      "execution_count": null,
      "metadata": {
        "trusted": true
      }
    },
    {
      "cell_type": "code",
      "source": [
        "test"
      ],
      "outputs": [],
      "execution_count": null,
      "metadata": {
        "trusted": true
      }
    },
    {
      "cell_type": "markdown",
      "source": [
        "# Data Manipulation and Cleaning"
      ],
      "metadata": {}
    },
    {
      "cell_type": "code",
      "source": [
        "def col_counts(col):\n",
        "    '''Print the value counts of columns from train and test data.'''\n",
        "    if col in train.columns:\n",
        "        print('Train\\'s {} : '.format(col))\n",
        "        print(train[col].value_counts(),'\\n')\n",
        "    else:\n",
        "        print('Train\\'s data does not have {} column.'.format(col))\n",
        "        \n",
        "    if col in test.columns:\n",
        "        print('Test\\'s {} : '.format(col))\n",
        "        print(test[col].value_counts())\n",
        "    else:\n",
        "        print('Test\\'s data does not have {} column.'.format(col))"
      ],
      "outputs": [],
      "execution_count": null,
      "metadata": {
        "trusted": true
      }
    },
    {
      "cell_type": "markdown",
      "source": [
        "**Drop Passenger Id and Ticket's columns**"
      ],
      "metadata": {}
    },
    {
      "cell_type": "code",
      "source": [
        "def drop_col(data, column):\n",
        "    return data.drop(column, inplace = True,axis = 1)\n",
        "\n",
        "drop_col(train, ['PassengerId', 'Ticket'])\n",
        "drop_col(test, ['PassengerId', 'Ticket'])"
      ],
      "outputs": [],
      "execution_count": null,
      "metadata": {
        "trusted": true
      }
    },
    {
      "cell_type": "markdown",
      "source": [
        "**Survived**"
      ],
      "metadata": {}
    },
    {
      "cell_type": "code",
      "source": [
        "col_counts('Survived')"
      ],
      "outputs": [],
      "execution_count": null,
      "metadata": {
        "trusted": true
      }
    },
    {
      "cell_type": "markdown",
      "source": [
        "**Name**"
      ],
      "metadata": {}
    },
    {
      "cell_type": "markdown",
      "source": [
        "**Extract the title from the name of passenger**"
      ],
      "metadata": {}
    },
    {
      "cell_type": "code",
      "source": [
        "train['Title'] = train.Name.apply(lambda x : x.split(',')[1].split('.')[0].strip())\n",
        "test['Title'] = test.Name.apply(lambda x : x.split(',')[1].split('.')[0].strip())\n",
        "\n",
        "def title_type(row):\n",
        "    if row in ['Don', 'Mme',\n",
        "       'Major', 'Lady', 'Sir', 'Mlle', 'Col', 'Capt', 'the Countess',\n",
        "       'Jonkheer','Dona','Dr','Rev']:\n",
        "        # label as rare for titles that are low in counts\n",
        "        return 'Rare'\n",
        "    elif row == 'Miss':\n",
        "        return 'Ms'\n",
        "    else:\n",
        "        return row\n",
        "    \n",
        "train['Title'] = train.Title.apply(title_type)\n",
        "test['Title'] = test.Title.apply(title_type)\n",
        "\n",
        "drop_col(train, 'Name')\n",
        "drop_col(test,'Name')"
      ],
      "outputs": [],
      "execution_count": null,
      "metadata": {
        "trusted": true
      }
    },
    {
      "cell_type": "code",
      "source": [
        "col_counts('Title')"
      ],
      "outputs": [],
      "execution_count": null,
      "metadata": {
        "trusted": true
      }
    },
    {
      "cell_type": "markdown",
      "source": [
        "**Sex**"
      ],
      "metadata": {}
    },
    {
      "cell_type": "code",
      "source": [
        "train['Sex'] = train.Sex.map({'male':'Male','female':'Female'})\n",
        "test['Sex'] = test.Sex.map({'male':'Male','female':'Female'})"
      ],
      "outputs": [],
      "execution_count": null,
      "metadata": {
        "trusted": true
      }
    },
    {
      "cell_type": "code",
      "source": [
        "col_counts('Sex')"
      ],
      "outputs": [],
      "execution_count": null,
      "metadata": {
        "trusted": true
      }
    },
    {
      "cell_type": "markdown",
      "source": [
        "**Family**"
      ],
      "metadata": {}
    },
    {
      "cell_type": "code",
      "source": [
        "train['Family'] = train.SibSp + train.Parch + 1\n",
        "test['Family'] = test.SibSp + test.Parch + 1\n",
        "drop_col(train, ['SibSp','Parch'])\n",
        "drop_col(test, ['SibSp','Parch'])"
      ],
      "outputs": [],
      "execution_count": null,
      "metadata": {
        "trusted": true
      }
    },
    {
      "cell_type": "code",
      "source": [
        "col_counts('Family')"
      ],
      "outputs": [],
      "execution_count": null,
      "metadata": {
        "trusted": true
      }
    },
    {
      "cell_type": "code",
      "source": [
        "train['Family_type'] = pd.cut(train.Family, [0,1,4,7,11], labels = ['Single', 'Small', 'Medium', 'Large'])\n",
        "test['Family_type'] = pd.cut(test.Family, [0,1,4,7,11], labels = ['Single', 'Small', 'Medium', 'Large'])"
      ],
      "outputs": [],
      "execution_count": null,
      "metadata": {
        "trusted": true
      }
    },
    {
      "cell_type": "code",
      "source": [
        "col_counts('Family_type')"
      ],
      "outputs": [],
      "execution_count": null,
      "metadata": {
        "trusted": true
      }
    },
    {
      "cell_type": "markdown",
      "source": [
        "**Age**"
      ],
      "metadata": {}
    },
    {
      "cell_type": "markdown",
      "source": [
        "Divide into 3 stage : Child, Adult, Elderly"
      ],
      "metadata": {}
    },
    {
      "cell_type": "code",
      "source": [
        "def age_diff(row):\n",
        "    if row < 18:\n",
        "        return 'Child'\n",
        "    elif (row < 60) & (row >=18):\n",
        "        return 'Adult'\n",
        "    else:\n",
        "        return 'Elderly'\n",
        "\n",
        "train['Age_cat'] = train.Age.apply(age_diff)\n",
        "test['Age_cat'] = test.Age.apply(age_diff)"
      ],
      "outputs": [],
      "execution_count": null,
      "metadata": {
        "trusted": true
      }
    },
    {
      "cell_type": "code",
      "source": [
        "col_counts('Age_cat')"
      ],
      "outputs": [],
      "execution_count": null,
      "metadata": {
        "trusted": true
      }
    },
    {
      "cell_type": "markdown",
      "source": [
        "**Cabin**"
      ],
      "metadata": {}
    },
    {
      "cell_type": "code",
      "source": [
        "train['Cabin_floor'] = train.Cabin.apply(lambda x: list(str(x))[0])\n",
        "train['Cabin_floor'] = train.Cabin_floor.replace('n', np.nan)\n",
        "\n",
        "test['Cabin_floor'] = test.Cabin.apply(lambda x: list(str(x))[0])\n",
        "test['Cabin_floor'] = test.Cabin_floor.replace('n', np.nan)\n",
        "\n",
        "drop_col(train,'Cabin')\n",
        "drop_col(test,'Cabin')"
      ],
      "outputs": [],
      "execution_count": null,
      "metadata": {
        "trusted": true
      }
    },
    {
      "cell_type": "code",
      "source": [
        "col_counts('Cabin_floor')"
      ],
      "outputs": [],
      "execution_count": null,
      "metadata": {
        "trusted": true
      }
    },
    {
      "cell_type": "markdown",
      "source": [
        "# Modelling"
      ],
      "metadata": {}
    },
    {
      "cell_type": "code",
      "source": [
        "from sklearn.preprocessing import StandardScaler\n",
        "from sklearn.preprocessing import OneHotEncoder, LabelEncoder, RobustScaler\n",
        "from sklearn.pipeline import Pipeline\n",
        "from sklearn.metrics import confusion_matrix\n",
        "from sklearn.metrics import accuracy_score\n",
        "from sklearn.metrics import classification_report\n",
        "from sklearn.metrics import ConfusionMatrixDisplay\n",
        "from sklearn.metrics import roc_auc_score\n",
        "\n",
        "from sklearn.model_selection import train_test_split\n",
        "from sklearn.model_selection import GridSearchCV\n",
        "from sklearn.model_selection import RandomizedSearchCV\n",
        "from sklearn.model_selection import cross_val_score\n",
        "\n",
        "from sklearn.neighbors import KNeighborsClassifier as KNN\n",
        "from sklearn.tree import DecisionTreeClassifier\n",
        "from sklearn.tree import plot_tree\n",
        "from sklearn.ensemble import RandomForestClassifier\n",
        "from sklearn.ensemble import AdaBoostClassifier\n",
        "from sklearn.ensemble import GradientBoostingClassifier\n",
        "from sklearn.ensemble import VotingClassifier\n",
        "\n",
        "from sklearn.linear_model import LogisticRegression\n",
        "from sklearn.linear_model import SGDClassifier\n",
        "from sklearn.svm import LinearSVC\n",
        "from sklearn.svm import SVC\n",
        "from xgboost import XGBClassifier\n",
        "\n",
        "from sklearn.impute import SimpleImputer\n",
        "from sklearn.compose import ColumnTransformer\n",
        "\n",
        "seed = 225"
      ],
      "outputs": [],
      "execution_count": null,
      "metadata": {
        "trusted": true
      }
    },
    {
      "cell_type": "code",
      "source": [
        "y = train['Survived']\n",
        "X = train.drop('Survived',axis = 1)"
      ],
      "outputs": [],
      "execution_count": null,
      "metadata": {
        "trusted": true
      }
    },
    {
      "cell_type": "markdown",
      "source": [
        "**XG with Age as categorical**"
      ],
      "metadata": {}
    },
    {
      "cell_type": "code",
      "source": [
        "# define columns for numerical and categorical\n",
        "num_cols = ['Fare']\n",
        "\n",
        "cat_cols = ['Pclass', 'Sex','Embarked','Title','Family_type','Age_cat']\n",
        "\n",
        "# pipeline for preprocessing of numerical and categorical data\n",
        "cat_transformer = Pipeline(steps = [('Cat_Imputer', SimpleImputer(strategy = 'most_frequent')),('OneHotEncoder',OneHotEncoder(handle_unknown = 'ignore'))])\n",
        "num_transformer = Pipeline(steps = [('Num_Imputer', SimpleImputer(strategy = 'median'))])\n",
        "\n",
        "preprocessor = ColumnTransformer(transformers = [('num', num_transformer, num_cols), ('cat',cat_transformer, cat_cols)])\n",
        "\n",
        "# pipeline for modeling\n",
        "titanic_pipeline = Pipeline(steps = [('Preprocessor',preprocessor),('XG', XGBClassifier(random_state = seed))])\n",
        "\n",
        "X_train, X_test, y_train, y_test = train_test_split(X,y,test_size = 0.3, random_state = seed)\n",
        "\n",
        "params = {'XG__learning_rate' : [0.1,0.2], 'XG__gamma' : [0.001,0.01,1,10],'XG__max_depth' : [4,6,8,10], 'XG__n_estimators' : [400,500]}\n",
        "\n",
        "searcher = GridSearchCV(titanic_pipeline,params, cv = 3, verbose = 1, n_jobs = -1 )\n",
        "\n",
        "searcher.fit(X_train,y_train)\n",
        "\n",
        "print('Best params : {}'.format(searcher.best_params_))\n",
        "print('Best score : {:.2f}'.format(searcher.best_score_))\n",
        "\n",
        "y_pred_train = searcher.predict(X_train)\n",
        "y_pred_test = searcher.predict(X_test)\n",
        "\n",
        "print('XGBoost\\'s train score : {:.3f}'.format(accuracy_score(y_train,y_pred_train)))\n",
        "print('XGBoost\\'s test score : {:.3f}'.format(accuracy_score(y_test,y_pred_test)))\n",
        "print(confusion_matrix(y_test, y_pred_test))\n",
        "print(classification_report(y_test,y_pred_test))\n",
        "print('XGBoost\\'s roc score : {:.3f}'.format(roc_auc_score(y_test,y_pred_test)))"
      ],
      "outputs": [],
      "execution_count": null,
      "metadata": {
        "trusted": true
      }
    },
    {
      "cell_type": "markdown",
      "source": [
        "**XG with Age as numerical**"
      ],
      "metadata": {}
    },
    {
      "cell_type": "code",
      "source": [
        "# define columns for numerical and categorical\n",
        "num_cols = ['Fare','Age']\n",
        "\n",
        "cat_cols = ['Pclass', 'Sex','Embarked','Title','Family_type']\n",
        "\n",
        "# pipeline for preprocessing of numerical and categorical data\n",
        "cat_transformer = Pipeline(steps = [('Cat_Imputer', SimpleImputer(strategy = 'most_frequent')),('OneHotEncoder',OneHotEncoder(handle_unknown = 'ignore'))])\n",
        "num_transformer = Pipeline(steps = [('Num_Imputer', SimpleImputer(strategy = 'median'))])\n",
        "\n",
        "preprocessor = ColumnTransformer(transformers = [('num', num_transformer, num_cols), ('cat',cat_transformer, cat_cols)])\n",
        "\n",
        "# pipeline for modeling\n",
        "titanic_pipeline = Pipeline(steps = [('Preprocessor',preprocessor),('XG', XGBClassifier(random_state = seed, learning_rate = 0.1))])\n",
        "\n",
        "X_train, X_test, y_train, y_test = train_test_split(X,y,test_size = 0.3, random_state = seed)\n",
        "\n",
        "params = { 'XG__gamma' : [0.001,0.01,1,10,100,1000],'XG__max_depth' : [2,4,6,8,10], 'XG__n_estimators' : [400,500]}\n",
        "\n",
        "searcher_xg = GridSearchCV(titanic_pipeline,params, cv = 3, verbose = 1, n_jobs = -1 )\n",
        "\n",
        "searcher_xg.fit(X_train,y_train)\n",
        "\n",
        "print('Best params : {}'.format(searcher_xg.best_params_))\n",
        "print('Best score : {:.2f}'.format(searcher_xg.best_score_))\n",
        "\n",
        "y_pred_train = searcher_xg.predict(X_train)\n",
        "y_pred_test = searcher_xg.predict(X_test)\n",
        "\n",
        "print('XGBoost\\'s train score : {:.3f}'.format(accuracy_score(y_train,y_pred_train)))\n",
        "print('XGBoost\\'s test score : {:.3f}'.format(accuracy_score(y_test,y_pred_test)))\n",
        "print(confusion_matrix(y_test, y_pred_test))\n",
        "print(classification_report(y_test,y_pred_test))\n",
        "print('XGBoost\\'s roc score : {:.3f}'.format(roc_auc_score(y_test,y_pred_test)))"
      ],
      "outputs": [],
      "execution_count": null,
      "metadata": {
        "trusted": true
      }
    },
    {
      "cell_type": "markdown",
      "source": [
        "**SVC with Age as categorical**"
      ],
      "metadata": {}
    },
    {
      "cell_type": "code",
      "source": [
        "num_cols = ['Fare']\n",
        "\n",
        "cat_cols = ['Pclass', 'Sex','Embarked','Title','Family_type','Age_cat']\n",
        "\n",
        "cat_transformer = Pipeline(steps = [('Cat_Imputer', SimpleImputer(strategy = 'most_frequent')),('OneHotEncoder',OneHotEncoder(handle_unknown = 'ignore'))])\n",
        "num_transformer = Pipeline(steps = [('Num_Imputer', SimpleImputer(strategy = 'median')), ('Scaler', RobustScaler())])\n",
        "\n",
        "preprocessor = ColumnTransformer(transformers = [('num', num_transformer, num_cols), ('cat',cat_transformer, cat_cols)])\n",
        "\n",
        "titanic_pipeline = Pipeline(steps = [('Preprocessor',preprocessor),('SVC', SVC(random_state = seed))])\n",
        "\n",
        "X_train, X_test, y_train, y_test = train_test_split(X,y,test_size = 0.3, random_state = seed)\n",
        "\n",
        "parameters = {'SVC__C':[0.1, 1, 10,100], 'SVC__gamma':[ 0.001, 0.01, 0.1,1,10]}\n",
        "searcher = GridSearchCV(titanic_pipeline, parameters, cv = 5, n_jobs = -1, verbose = 1)\n",
        "\n",
        "searcher.fit(X_train,y_train)\n",
        "\n",
        "print('Best params : {}'.format(searcher.best_params_))\n",
        "print('Best score : {:.2f}'.format(searcher.best_score_))\n",
        "\n",
        "y_pred_train = searcher.predict(X_train)\n",
        "y_pred_test = searcher.predict(X_test)\n",
        "\n",
        "print('SVC\\'s train score : {:.3f}'.format(accuracy_score(y_train,y_pred_train)))\n",
        "print('SVC\\'s test score : {:.3f}'.format(accuracy_score(y_test,y_pred_test)))\n",
        "print(confusion_matrix(y_test, y_pred_test))\n",
        "print(classification_report(y_test,y_pred_test))\n",
        "print('SVC\\'s roc score : {:.3f}'.format(roc_auc_score(y_test,y_pred_test)))"
      ],
      "outputs": [],
      "execution_count": null,
      "metadata": {
        "trusted": true
      }
    },
    {
      "cell_type": "markdown",
      "source": [
        "# Applying model on test data"
      ],
      "metadata": {}
    },
    {
      "cell_type": "code",
      "source": [
        "output = searcher_xg.predict(test)"
      ],
      "outputs": [],
      "execution_count": null,
      "metadata": {
        "trusted": true
      }
    },
    {
      "cell_type": "code",
      "source": [
        "df_test['Survived'] = output\n",
        "df_test = df_test[['PassengerId', 'Survived']]\n",
        "print(df_test.shape)"
      ],
      "outputs": [],
      "execution_count": null,
      "metadata": {
        "trusted": true
      }
    },
    {
      "cell_type": "code",
      "source": [
        "df_test.to_csv('submission_2.csv', index=False)"
      ],
      "outputs": [],
      "execution_count": null,
      "metadata": {
        "trusted": true
      }
    }
  ],
  "metadata": {
    "kernelspec": {
      "name": "python3",
      "display_name": "Python 3",
      "language": "python"
    },
    "language_info": {
      "name": "python",
      "version": "3.7.6",
      "mimetype": "text/x-python",
      "codemirror_mode": {
        "name": "ipython",
        "version": 3
      },
      "pygments_lexer": "ipython3",
      "nbconvert_exporter": "python",
      "file_extension": ".py"
    },
    "nteract": {
      "version": "0.23.1"
    }
  },
  "nbformat": 4,
  "nbformat_minor": 4
}